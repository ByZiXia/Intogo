{
 "cells": [
  {
   "metadata": {},
   "cell_type": "markdown",
   "source": [
    "衰变常数：\n",
    "$$\n",
    "\\lambda = \\frac{\\ln(2)}{109.77}\n",
    "$$\n",
    "\n",
    "假设时间点数组为 \\(\\{t_1, t_2, \\ldots, t_N\\}\\)，其中 \\(t_i\\) 表示第 \\(i\\) 次注射的时间。\n",
    "\n",  
    "每次注射时的实际药物量：\n",
    "$$\n",
    "d_i = D \\cdot e^{\\lambda t_i}\n",
    "$$\n",
    "\n",
    "总药物量：\n",
    "$$\n",
    "D_{\\text{total}} = \\sum_{i=1}^{N} d_i = \\sum_{i=1}^{N} D \\cdot e^{\\lambda t_i}\n",
    "$$\n",
    "\n",
    "将上述公式合并，得到总药物量的计算公式：\n",
    "$$\n",
    "D_{\\text{total}} = D \\cdot \\sum_{i=1}^{N} e^{\\lambda t_i}\n",
    "$$"
   ]
  }
 ],
 "metadata": {
  "kernelspec": {
   "display_name": "Python 3",
   "language": "python",
   "name": "python3"
  },
  "language_info": {
   "codemirror_mode": {
    "name": "ipython",
    "version": 3
   },
   "file_extension": ".py",
   "mimetype": "text/x-python",
   "name": "python",
   "nbconvert_exporter": "python",
   "pygments_lexer": "ipython3",
   "version": "3.7.4"
  }
 },
 "nbformat": 4,
 "nbformat_minor": 4
}
