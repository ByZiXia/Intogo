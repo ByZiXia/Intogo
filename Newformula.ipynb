#%% md
### 详细推导和公式总结

1. **衰变常数**：

    $$
    \lambda = \frac{\ln(2)}{110}
    $$

2. **每个病人的注射间隔时间**：
    $$
    \Delta t = \frac{T}{N-1}
    $$

3. **每次注射的时间点**：
    $$
    t_i = i \cdot \Delta t, \quad \text{其中} \quad i = 0, 1, 2, \ldots, N-1
    $$

4. **每次注射时的实际药物量**：
    $$
    d_i = D \cdot e^{-\lambda t_i}
    $$

5. **总药物量**：
    $$
    D_{\text{total}} = \sum_{i=0}^{N-1} d_i = \sum_{i=0}^{N-1} D \cdot e^{\lambda i \cdot \Delta t}
    $$

将上述公式合并，得到总药物量的计算公式：
$$
D_{\text{total}} = D \cdot \sum_{i=0}^{N-1} e^{\lambda i \cdot \frac{T}{N-1}}
$$

### 具体公式
1. 计算衰变常数：
    $$
    \lambda = \frac{\ln(2)}{110}
    $$
2. 每个病人的注射间隔时间：
    $$
    \Delta t = \frac{T}{N-1}
    $$
3. 总药物量：
    $$
    D_{\text{total}} = D \cdot \sum_{i=0}^{N-1} e^{\lambda \cdot i \cdot \frac{T}{N-1}}
    $$

所以：
$$
D_{\text{total}} = D \cdot \sum_{i=0}^{N-1} e^{\frac{\ln(2)}{110} \cdot i \cdot \frac{T}{N-1}}
$$

#%% md
假设我们有一个时间点的数组 $\{t_0, t_1, t_2, \ldots, t_{N-1}\}$，表示每个注射的时间点。

在这种情况下，总药物量的计算公式变为：

$$
D_{\text{total}} = \sum_{i=0}^{N-1} D \cdot e^{\lambda t_i}
$$

以下是详细推导和公式总结：

### 详细推导和公式总结

1. **衰变常数**：
    $$
    \lambda = \frac{\ln(2)}{t_{1/2}}
    $$

2. **每次注射的时间点**（非均匀分布）：
    假设时间点数组为 $\{t_0, t_1, t_2, \ldots, t_{N-1}\}$，其中 $t_i$ 表示第 $i$ 次注射的时间。

3. **每次注射时的实际药物量**：
    $$
    d_i = D \cdot e^{\lambda t_i}
    $$

4. **总药物量**：
    $$
    D_{\text{total}} = \sum_{i=0}^{N-1} d_i = \sum_{i=0}^{N-1} D \cdot e^{\lambda t_i}
    $$

5. **公式合并**：
    $$
    D_{\text{total}} = D \cdot \sum_{i=0}^{N-1} e^{\lambda t_i}
    $$

### 具体公式
1. 计算衰变常数：
    $$
    \lambda = \frac{\ln(2)}{110}
    $$

2. 总药物量：
    $$
    D_{\text{total}} = D \cdot \sum_{i=0}^{N-1} e^{\lambda t_i}
    $$

最终的总药物量公式为：

$$
D_{\text{total}} = D \cdot \sum_{i=0}^{N-1} e^{\frac{\ln(2)}{110} \cdot t_i}
$$

这样，你可以根据具体的注射时间点 $t_i$ 来计算总药物量。请提供每次注射的具体时间点数组 $\{t_0, t_1, t_2, \ldots, t_{N-1}\}$，以便进行计算。
#%% md
衰变常数：
$$
\lambda = \frac{\ln(2)}{110}
$$

假设时间点数组为 \(\{t_1, t_2, \ldots, t_N\}\)，其中 \(t_i\) 表示第 \(i\) 次注射的时间。

每次注射时的实际药物量：
$$
d_i = D \cdot e^{\lambda t_i}
$$

总药物量：
$$
D_{\text{total}} = \sum_{i=1}^{N} d_i = \sum_{i=1}^{N} D \cdot e^{\lambda t_i}
$$

将上述公式合并，得到总药物量的计算公式：
$$
D_{\text{total}} = D \cdot \sum_{i=1}^{N} e^{\lambda t_i}
$$