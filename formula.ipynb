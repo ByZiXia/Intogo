{
 "cells": [
  {
   "cell_type": "markdown",
   "metadata": {},
   "source": [
    "### 详细推导和公式总结\n",
    "\n",
    "1. **衰变常数**：\n",
    "    $$\n",
    "    \\lambda = \\frac{\\ln(2)}{t_{1/2}}\n",
    "    $$\n",
    "    其中，半衰期 $ t_{1/2} = 110 $ 分钟。\n",
    "    \n",
    "    所以：\n",
    "    $$\n",
    "    \\lambda = \\frac{\\ln(2)}{110}\n",
    "    $$\n",
    "\n",
    "2. **每个病人的注射间隔时间**：\n",
    "    $$\n",
    "    \\Delta t = \\frac{T}{N-1}\n",
    "    $$\n",
    "\n",
    "3. **每次注射的时间点**：\n",
    "    $$\n",
    "    t_i = i \\cdot \\Delta t, \\quad \\text{其中} \\quad i = 0, 1, 2, \\ldots, N-1\n",
    "    $$\n",
    "\n",
    "4. **每次注射时的实际药物量**：\n",
    "    $$\n",
    "    d_i = D \\cdot e^{-\\lambda t_i}\n",
    "    $$\n",
    "\n",
    "5. **总药物量**：\n",
    "    $$\n",
    "    D_{\\text{total}} = \\sum_{i=0}^{N-1} d_i = \\sum_{i=0}^{N-1} D \\cdot e^{-\\lambda i \\cdot \\Delta t}\n",
    "    $$\n",
    "\n",
    "将上述公式合并，得到总药物量的计算公式：\n",
    "$$\n",
    "D_{\\text{total}} = D \\cdot \\sum_{i=0}^{N-1} e^{-\\lambda i \\cdot \\frac{T}{N-1}}\n",
    "$$\n",
    "\n",
    "### 具体公式\n",
    "1. 计算衰变常数：\n",
    "    $$\n",
    "    \\lambda = \\frac{\\ln(2)}{110}\n",
    "    $$\n",
    "2. 每个病人的注射间隔时间：\n",
    "    $$\n",
    "    \\Delta t = \\frac{T}{N-1}\n",
    "    $$\n",
    "3. 总药物量：\n",
    "    $$\n",
    "    D_{\\text{total}} = D \\cdot \\sum_{i=0}^{N-1} e^{-\\lambda \\cdot i \\cdot \\frac{T}{N-1}}\n",
    "    $$\n",
    "\n",
    "所以：\n",
    "$$\n",
    "D_{\\text{total}} = D \\cdot \\sum_{i=0}^{N-1} e^{-\\frac{\\ln(2)}{110} \\cdot i \\cdot \\frac{T}{N-1}}\n",
    "$$\n"
   ]
  }
 ],
 "metadata": {
  "kernelspec": {
   "display_name": "Python 3",
   "language": "python",
   "name": "python3"
  },
  "language_info": {
   "codemirror_mode": {
    "name": "ipython",
    "version": 3
   },
   "file_extension": ".py",
   "mimetype": "text/x-python",
   "name": "python",
   "nbconvert_exporter": "python",
   "pygments_lexer": "ipython3",
   "version": "3.7.4"
  }
 },
 "nbformat": 4,
 "nbformat_minor": 4
}
